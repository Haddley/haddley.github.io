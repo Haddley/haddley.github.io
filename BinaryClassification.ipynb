{
  "nbformat": 4,
  "nbformat_minor": 0,
  "metadata": {
    "colab": {
      "name": "BinaryClassification.ipynb",
      "provenance": [],
      "collapsed_sections": []
    },
    "kernelspec": {
      "name": "python3",
      "display_name": "Python 3"
    },
    "language_info": {
      "name": "python"
    }
  },
  "cells": [
    {
      "cell_type": "code",
      "execution_count": 4,
      "metadata": {
        "colab": {
          "base_uri": "https://localhost:8080/"
        },
        "id": "dNrAEjrbMdW-",
        "outputId": "8692e6b6-11c0-4ec4-ac65-d1bd54de6ac7"
      },
      "outputs": [
        {
          "output_type": "stream",
          "name": "stdout",
          "text": [
            "768\n",
            "614\n",
            "614\n",
            "154\n",
            "154\n"
          ]
        }
      ],
      "source": [
        "import pandas as pd\n",
        "from sklearn.model_selection import train_test_split\n",
        "from sklearn.utils import shuffle\n",
        "\n",
        "diabetes_dataframe = pd.read_csv(\n",
        "    \"https://raw.githubusercontent.com/plotly/datasets/master/diabetes.csv\"\n",
        ")\n",
        "\n",
        "# Shuffle the data points\n",
        "diabetes_dataframe = shuffle(diabetes_dataframe)\n",
        "\n",
        "diabetes_dataframe_label = diabetes_dataframe.pop(\"Outcome\")\n",
        "diabetes_dataframe_features = diabetes_dataframe\n",
        "\n",
        "# Split into training and testing sets\n",
        "(\n",
        "    diabetes_dataframe_training_features,\n",
        "    diabetes_dataframe_test_features,\n",
        "    diabetes_dataframe_training_label,\n",
        "    diabetes_dataframe_test_label,\n",
        ") = train_test_split(\n",
        "    diabetes_dataframe_features, diabetes_dataframe_label, test_size=0.2\n",
        ")\n",
        "\n",
        "print(len(diabetes_dataframe))\n",
        "print(len(diabetes_dataframe_training_features))\n",
        "print(len(diabetes_dataframe_training_label))\n",
        "print(len(diabetes_dataframe_test_features))\n",
        "print(len(diabetes_dataframe_test_label))"
      ]
    },
    {
      "cell_type": "code",
      "source": [
        "from sklearn.preprocessing import StandardScaler\n",
        "\n",
        "diabetes_dataframe_training_features_normalized = pd.DataFrame(\n",
        "    StandardScaler().fit_transform(diabetes_dataframe_training_features),\n",
        "    columns = diabetes_dataframe_training_features.columns\n",
        ")\n",
        "\n",
        "diabetes_dataframe_test_features_normalized = pd.DataFrame(\n",
        "    StandardScaler().fit_transform(diabetes_dataframe_test_features),\n",
        "    columns = diabetes_dataframe_test_features.columns\n",
        ")\n",
        "\n",
        "print(diabetes_dataframe_training_features.head())\n",
        "print(diabetes_dataframe_training_features_normalized.head())"
      ],
      "metadata": {
        "colab": {
          "base_uri": "https://localhost:8080/"
        },
        "id": "ICElYCX5qAYF",
        "outputId": "5da638b3-ba59-44b2-f0df-2262b2be0a26"
      },
      "execution_count": 5,
      "outputs": [
        {
          "output_type": "stream",
          "name": "stdout",
          "text": [
            "     Pregnancies  Glucose  BloodPressure  SkinThickness  Insulin   BMI  \\\n",
            "576            6      108             44             20      130  24.0   \n",
            "637            2       94             76             18       66  31.6   \n",
            "22             7      196             90              0        0  39.8   \n",
            "646            1      167             74             17      144  23.4   \n",
            "597            1       89             24             19       25  27.8   \n",
            "\n",
            "     DiabetesPedigreeFunction  Age  \n",
            "576                     0.813   35  \n",
            "637                     0.649   23  \n",
            "22                      0.451   41  \n",
            "646                     0.447   33  \n",
            "597                     0.559   21  \n",
            "   Pregnancies   Glucose  BloodPressure  SkinThickness   Insulin       BMI  \\\n",
            "0     0.674409 -0.409944      -1.286020      -0.005579  0.438926 -0.989742   \n",
            "1    -0.521511 -0.869919       0.368818      -0.132457 -0.104131 -0.018319   \n",
            "2     0.973389  2.481333       1.092810      -1.274359 -0.664158  1.029795   \n",
            "3    -0.820490  1.528526       0.265391      -0.195896  0.557720 -1.066434   \n",
            "4    -0.820490 -1.034197      -2.320294      -0.069018 -0.452027 -0.504031   \n",
            "\n",
            "   DiabetesPedigreeFunction       Age  \n",
            "0                  1.060907  0.162731  \n",
            "1                  0.564623 -0.847383  \n",
            "2                 -0.034549  0.667789  \n",
            "3                 -0.046654 -0.005621  \n",
            "4                  0.292272 -1.015735  \n"
          ]
        }
      ]
    },
    {
      "cell_type": "code",
      "source": [
        "from sklearn.linear_model import LogisticRegression\n",
        "\n",
        "model2 = LogisticRegression()\n",
        "model2.fit(\n",
        "    diabetes_dataframe_training_features_normalized, diabetes_dataframe_training_label\n",
        ")\n",
        "\n",
        "prob = model2.predict_proba(diabetes_dataframe_test_features_normalized)\n",
        "\n",
        "diabetes_dataframe_test_results2 = diabetes_dataframe_test_features.copy()\n",
        "\n",
        "diabetes_dataframe_test_results2[\"Outcome\"] = diabetes_dataframe_test_label\n",
        "diabetes_dataframe_test_results2[\"Predicted Outcome\"] = prob[:, 1]\n",
        "\n",
        "print(diabetes_dataframe_test_results2.head())"
      ],
      "metadata": {
        "colab": {
          "base_uri": "https://localhost:8080/"
        },
        "id": "5ILu-i3AxJoK",
        "outputId": "4285cf8b-9caf-4740-8c6d-1cf4eff746a8"
      },
      "execution_count": 6,
      "outputs": [
        {
          "output_type": "stream",
          "name": "stdout",
          "text": [
            "     Pregnancies  Glucose  BloodPressure  SkinThickness  Insulin   BMI  \\\n",
            "71             5      139             64             35      140  28.6   \n",
            "237            0      179             90             27        0  44.1   \n",
            "192            7      159             66              0        0  30.4   \n",
            "145            0      102             75             23        0   0.0   \n",
            "466            0       74             52             10       36  27.8   \n",
            "\n",
            "     DiabetesPedigreeFunction  Age  Outcome  Predicted Outcome  \n",
            "71                      0.411   26        0           0.304869  \n",
            "237                     0.686   23        1           0.711093  \n",
            "192                     0.383   36        1           0.582856  \n",
            "145                     0.572   21        0           0.013124  \n",
            "466                     0.269   22        0           0.036627  \n"
          ]
        }
      ]
    }
  ]
}