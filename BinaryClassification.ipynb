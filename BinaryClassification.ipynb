{
  "nbformat": 4,
  "nbformat_minor": 0,
  "metadata": {
    "colab": {
      "name": "BinaryClassification.ipynb",
      "provenance": []
    },
    "kernelspec": {
      "name": "python3",
      "display_name": "Python 3"
    },
    "language_info": {
      "name": "python"
    }
  },
  "cells": [
    {
      "cell_type": "code",
      "execution_count": 1,
      "metadata": {
        "colab": {
          "base_uri": "https://localhost:8080/"
        },
        "id": "dNrAEjrbMdW-",
        "outputId": "6081e137-39c7-4fdf-9742-4182d91aff8f"
      },
      "outputs": [
        {
          "output_type": "stream",
          "name": "stdout",
          "text": [
            "768\n",
            "614\n",
            "614\n",
            "154\n",
            "154\n"
          ]
        }
      ],
      "source": [
        "import pandas as pd\n",
        "from sklearn.model_selection import train_test_split\n",
        "from sklearn.utils import shuffle\n",
        "\n",
        "diabetes_dataframe = pd.read_csv(\n",
        "    \"https://raw.githubusercontent.com/plotly/datasets/master/diabetes.csv\"\n",
        ")\n",
        "\n",
        "# Shuffle the data points\n",
        "diabetes_dataframe = shuffle(diabetes_dataframe)\n",
        "\n",
        "diabetes_dataframe_label = diabetes_dataframe.pop(\"Outcome\")\n",
        "diabetes_dataframe_features = diabetes_dataframe\n",
        "\n",
        "# Split into training and testing sets\n",
        "(\n",
        "    diabetes_dataframe_training_features,\n",
        "    diabetes_dataframe_test_features,\n",
        "    diabetes_dataframe_training_label,\n",
        "    diabetes_dataframe_test_label,\n",
        ") = train_test_split(\n",
        "    diabetes_dataframe_features, diabetes_dataframe_label, test_size=0.2\n",
        ")\n",
        "\n",
        "print(len(diabetes_dataframe))\n",
        "print(len(diabetes_dataframe_training_features))\n",
        "print(len(diabetes_dataframe_training_label))\n",
        "print(len(diabetes_dataframe_test_features))\n",
        "print(len(diabetes_dataframe_test_label))"
      ]
    },
    {
      "cell_type": "code",
      "source": [
        "from sklearn.preprocessing import StandardScaler\n",
        "\n",
        "diabetes_dataframe_training_features_normalized = pd.DataFrame(\n",
        "    StandardScaler().fit_transform(diabetes_dataframe_training_features),\n",
        "    columns = diabetes_dataframe_training_features.columns\n",
        ")\n",
        "\n",
        "diabetes_dataframe_test_features_normalized = pd.DataFrame(\n",
        "    StandardScaler().fit_transform(diabetes_dataframe_test_features),\n",
        "    columns = diabetes_dataframe_test_features.columns\n",
        ")\n",
        "\n",
        "print(diabetes_dataframe_training_features.head())\n",
        "print(diabetes_dataframe_training_features_normalized.head())"
      ],
      "metadata": {
        "colab": {
          "base_uri": "https://localhost:8080/"
        },
        "id": "ICElYCX5qAYF",
        "outputId": "53e83587-b61c-426d-9d7f-3b1d55b5ef88"
      },
      "execution_count": 3,
      "outputs": [
        {
          "output_type": "stream",
          "name": "stdout",
          "text": [
            "     Pregnancies  Glucose  BloodPressure  SkinThickness  Insulin   BMI  \\\n",
            "181            0      119             64             18       92  34.9   \n",
            "614           11      138             74             26      144  36.1   \n",
            "473            7      136             90              0        0  29.9   \n",
            "606            1      181             78             42      293  40.0   \n",
            "231            6      134             80             37      370  46.2   \n",
            "\n",
            "     DiabetesPedigreeFunction  Age  \n",
            "181                     0.725   23  \n",
            "614                     0.557   50  \n",
            "473                     0.210   50  \n",
            "606                     1.258   22  \n",
            "231                     0.238   46  \n",
            "   Pregnancies   Glucose  BloodPressure  SkinThickness   Insulin       BMI  \\\n",
            "0    -1.134457 -0.067244      -0.290700      -0.162162  0.104815  0.323747   \n",
            "1     2.119099  0.524808       0.237846       0.340704  0.548712  0.481448   \n",
            "2     0.935987  0.462487       1.083519      -1.293610 -0.680541 -0.333336   \n",
            "3    -0.838679  1.864715       0.449264       1.346435  1.820647  0.993973   \n",
            "4     0.640210  0.400165       0.554973       1.032144  2.477956  1.808757   \n",
            "\n",
            "   DiabetesPedigreeFunction       Age  \n",
            "0                  0.760675 -0.873779  \n",
            "1                  0.257196  1.399528  \n",
            "2                 -0.782727  1.399528  \n",
            "3                  2.358021 -0.957976  \n",
            "4                 -0.698814  1.062741  \n"
          ]
        }
      ]
    },
    {
      "cell_type": "code",
      "source": [
        "from tensorflow.keras.models import Sequential\n",
        "from tensorflow.keras.layers import Dense\n",
        "from tensorflow.keras.callbacks import EarlyStopping\n",
        "\n",
        "column_count = len(diabetes_dataframe_training_features.columns)\n",
        "\n",
        "model1 = Sequential()\n",
        "model1.add(Dense(8, input_dim=column_count, activation='relu'))\n",
        "model1.add(Dense(4, activation='relu'))\n",
        "model1.add(Dense(1, activation='sigmoid'))\n",
        "\n",
        "model1.compile(loss='binary_crossentropy', optimizer='rmsprop', metrics=['accuracy'])\n",
        "\n",
        "model1.optimizer.learning_rate = 0.001\n",
        "\n",
        "monitor_val_acc = EarlyStopping(monitor='accuracy', patience=10)\n",
        "\n",
        "history = model1.fit(x=diabetes_dataframe_training_features_normalized,\n",
        "          y=diabetes_dataframe_training_label, \n",
        "          epochs=100, \n",
        "          verbose=0,\n",
        "          callbacks=[monitor_val_acc])\n",
        "\n",
        "predictions = model1.predict(diabetes_dataframe_test_features_normalized)\n",
        "\n",
        "diabetes_dataframe_test_results1 = diabetes_dataframe_test_features.copy()\n",
        "\n",
        "diabetes_dataframe_test_results1['Outcome'] = diabetes_dataframe_test_label\n",
        "diabetes_dataframe_test_results1['Predicted Outcome'] = predictions\n",
        "\n",
        "print(diabetes_dataframe_test_results1.head())"
      ],
      "metadata": {
        "colab": {
          "base_uri": "https://localhost:8080/"
        },
        "id": "2nvs_wGLuUgU",
        "outputId": "4ba8f46a-07aa-40b8-bc3b-e135451df2fd"
      },
      "execution_count": 5,
      "outputs": [
        {
          "output_type": "stream",
          "name": "stdout",
          "text": [
            "     Pregnancies  Glucose  BloodPressure  SkinThickness  Insulin   BMI  \\\n",
            "325            1      157             72             21      168  25.6   \n",
            "650            1       91             54             25      100  25.2   \n",
            "734            2      105             75              0        0  23.3   \n",
            "71             5      139             64             35      140  28.6   \n",
            "278            5      114             74              0        0  24.9   \n",
            "\n",
            "     DiabetesPedigreeFunction  Age  Outcome  Predicted Outcome  \n",
            "325                     0.123   24        0           0.346259  \n",
            "650                     0.234   23        0           0.171761  \n",
            "734                     0.560   53        0           0.268190  \n",
            "71                      0.411   26        0           0.472002  \n",
            "278                     0.744   57        0           0.313219  \n"
          ]
        }
      ]
    },
    {
      "cell_type": "code",
      "source": [
        "from sklearn.linear_model import LogisticRegression\n",
        "\n",
        "model2 = LogisticRegression(C=0.001, solver=\"liblinear\")\n",
        "model2.fit(\n",
        "    diabetes_dataframe_training_features_normalized, diabetes_dataframe_training_label\n",
        ")\n",
        "\n",
        "prob = model2.predict_proba(diabetes_dataframe_test_features_normalized)\n",
        "\n",
        "diabetes_dataframe_test_results2 = diabetes_dataframe_test_features.copy()\n",
        "\n",
        "diabetes_dataframe_test_results2[\"Outcome\"] = diabetes_dataframe_test_label\n",
        "diabetes_dataframe_test_results2[\"Predicted Outcome\"] = prob[:, 1]\n",
        "\n",
        "print(diabetes_dataframe_test_results2.head())"
      ],
      "metadata": {
        "colab": {
          "base_uri": "https://localhost:8080/"
        },
        "id": "5ILu-i3AxJoK",
        "outputId": "8d55f041-c6e1-4694-c8f5-983f804c7ff0"
      },
      "execution_count": 7,
      "outputs": [
        {
          "output_type": "stream",
          "name": "stdout",
          "text": [
            "     Pregnancies  Glucose  BloodPressure  SkinThickness  Insulin   BMI  \\\n",
            "325            1      157             72             21      168  25.6   \n",
            "650            1       91             54             25      100  25.2   \n",
            "734            2      105             75              0        0  23.3   \n",
            "71             5      139             64             35      140  28.6   \n",
            "278            5      114             74              0        0  24.9   \n",
            "\n",
            "     DiabetesPedigreeFunction  Age  Outcome  Predicted Outcome  \n",
            "325                     0.123   24        0           0.477118  \n",
            "650                     0.234   23        0           0.418563  \n",
            "734                     0.560   53        0           0.467319  \n",
            "71                      0.411   26        0           0.492087  \n",
            "278                     0.744   57        0           0.498982  \n"
          ]
        }
      ]
    }
  ]
}