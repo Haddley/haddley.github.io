{
  "nbformat": 4,
  "nbformat_minor": 0,
  "metadata": {
    "colab": {
      "name": "MNIST.ipynb",
      "provenance": [],
      "collapsed_sections": []
    },
    "kernelspec": {
      "name": "python3",
      "display_name": "Python 3"
    },
    "language_info": {
      "name": "python"
    }
  },
  "cells": [
    {
      "cell_type": "code",
      "source": [
        "from keras.datasets import mnist"
      ],
      "metadata": {
        "id": "bCbFlVi6TO1A"
      },
      "execution_count": 1,
      "outputs": []
    },
    {
      "cell_type": "code",
      "source": [
        "(X_train, y_train), (X_test, y_test) = mnist.load_data()"
      ],
      "metadata": {
        "id": "9VXA2AVzVAUu",
        "colab": {
          "base_uri": "https://localhost:8080/"
        },
        "outputId": "5723e412-66e3-4cef-fe41-f92e5f88e913"
      },
      "execution_count": 2,
      "outputs": [
        {
          "output_type": "stream",
          "name": "stdout",
          "text": [
            "Downloading data from https://storage.googleapis.com/tensorflow/tf-keras-datasets/mnist.npz\n",
            "11493376/11490434 [==============================] - 0s 0us/step\n",
            "11501568/11490434 [==============================] - 0s 0us/step\n"
          ]
        }
      ]
    },
    {
      "cell_type": "code",
      "source": [
        "from random import randint\n",
        "from matplotlib import pyplot\n",
        "\n",
        "random=randint(0,X_train.shape[0])\n",
        "\n",
        "pyplot.imshow(X_train[random], cmap=\"gray_r\")\n",
        "pyplot.show()\n",
        "\n",
        "print(y_train[random])"
      ],
      "metadata": {
        "colab": {
          "base_uri": "https://localhost:8080/",
          "height": 282
        },
        "id": "JMXdD1LYVZSh",
        "outputId": "878c4f73-a320-4fd4-a61c-0cd3b1127b6e"
      },
      "execution_count": 3,
      "outputs": [
        {
          "output_type": "display_data",
          "data": {
            "text/plain": [
              "<Figure size 432x288 with 1 Axes>"
            ],
            "image/png": "[encoded data removed]"
          },
          "metadata": {
            "needs_background": "light"
          }
        },
        {
          "output_type": "stream",
          "name": "stdout",
          "text": [
            "3\n"
          ]
        }
      ]
    },
    {
      "cell_type": "code",
      "source": [
        "# Transform from matrix to vector, cast and normalize\n",
        "image_size = 28*28\n",
        "\n",
        "X_train_normalized=X_train.reshape(X_train.shape[0],image_size)\n",
        "X_train_normalized=X_train_normalized.astype('float32')\n",
        "X_train_normalized/=255\n",
        "\n",
        "X_test_normalized = X_test.copy()\n",
        "\n",
        "X_test_normalized =X_test_normalized.reshape(X_test_normalized .shape[0],image_size)\n",
        "X_test_normalized =X_test_normalized .astype('float32')\n",
        "X_test_normalized /=255\n"
      ],
      "metadata": {
        "id": "Wg8Hsre6Y30L"
      },
      "execution_count": 4,
      "outputs": []
    },
    {
      "cell_type": "code",
      "source": [
        "# Convert class vector to binary class matrices\n",
        "from keras.utils import np_utils\n",
        "y_train_matrix=np_utils.to_categorical(y_train,10)\n",
        "\n",
        "y_test_matrix = y_test.copy()\n",
        "y_test_matrix=np_utils.to_categorical(y_test_matrix,10)"
      ],
      "metadata": {
        "id": "qQ5XoEpcZ3Gl"
      },
      "execution_count": 5,
      "outputs": []
    },
    {
      "cell_type": "code",
      "source": [
        "# Common model\n",
        "from keras.models import Sequential\n",
        "model = Sequential()"
      ],
      "metadata": {
        "id": "MfktJxNzbwQS"
      },
      "execution_count": 6,
      "outputs": []
    },
    {
      "cell_type": "code",
      "source": [
        "# Layers\n",
        "from keras.layers import Dense"
      ],
      "metadata": {
        "id": "tUraVQz1cJJp"
      },
      "execution_count": 7,
      "outputs": []
    },
    {
      "cell_type": "code",
      "source": [
        "model.add(Dense(units=512,activation='sigmoid',input_shape=(image_size,)))\n",
        "\n",
        "model.add(Dense(units=512, activation=\"sigmoid\"))"
      ],
      "metadata": {
        "id": "gdLVpuFIcT3o"
      },
      "execution_count": 8,
      "outputs": []
    },
    {
      "cell_type": "code",
      "source": [
        "layer_output=Dense(units=10,activation=\"softmax\")\n",
        "\n",
        "model.add(layer_output)"
      ],
      "metadata": {
        "id": "MMYKfnwQdP-h"
      },
      "execution_count": 9,
      "outputs": []
    },
    {
      "cell_type": "code",
      "source": [
        "model.summary()"
      ],
      "metadata": {
        "colab": {
          "base_uri": "https://localhost:8080/"
        },
        "id": "A1vfIliNdqT6",
        "outputId": "33566632-1695-4996-92b3-385f2ccb3296"
      },
      "execution_count": 10,
      "outputs": [
        {
          "output_type": "stream",
          "name": "stdout",
          "text": [
            "Model: \"sequential\"\n",
            "_________________________________________________________________\n",
            " Layer (type)                Output Shape              Param #   \n",
            "=================================================================\n",
            " dense (Dense)               (None, 512)               401920    \n",
            "                                                                 \n",
            " dense_1 (Dense)             (None, 512)               262656    \n",
            "                                                                 \n",
            " dense_2 (Dense)             (None, 10)                5130      \n",
            "                                                                 \n",
            "=================================================================\n",
            "Total params: 669,706\n",
            "Trainable params: 669,706\n",
            "Non-trainable params: 0\n",
            "_________________________________________________________________\n"
          ]
        }
      ]
    },
    {
      "cell_type": "code",
      "source": [
        "model.compile(loss='categorical_crossentropy',\n",
        "              optimizer='sgd',\n",
        "              metrics=['accuracy'])"
      ],
      "metadata": {
        "id": "CxxlyWa5dzH-"
      },
      "execution_count": 14,
      "outputs": []
    },
    {
      "cell_type": "code",
      "source": [
        "model.fit(X_train_normalized,y_train_matrix,epochs=5,verbose=True,validation_split=0.01)"
      ],
      "metadata": {
        "colab": {
          "base_uri": "https://localhost:8080/"
        },
        "id": "O460ljR7eg6v",
        "outputId": "298ad5a5-dd37-4a62-ab5e-8d452abe0d37"
      },
      "execution_count": 15,
      "outputs": [
        {
          "output_type": "stream",
          "name": "stdout",
          "text": [
            "Epoch 1/5\n",
            "1857/1857 [==============================] - 17s 9ms/step - loss: 2.1280 - accuracy: 0.3503 - val_loss: 1.8173 - val_accuracy: 0.5367\n",
            "Epoch 2/5\n",
            "1857/1857 [==============================] - 16s 9ms/step - loss: 1.3817 - accuracy: 0.6937 - val_loss: 0.9020 - val_accuracy: 0.8283\n",
            "Epoch 3/5\n",
            "1857/1857 [==============================] - 16s 8ms/step - loss: 0.8067 - accuracy: 0.8060 - val_loss: 0.5561 - val_accuracy: 0.8883\n",
            "Epoch 4/5\n",
            "1857/1857 [==============================] - 16s 9ms/step - loss: 0.5979 - accuracy: 0.8445 - val_loss: 0.4232 - val_accuracy: 0.9150\n",
            "Epoch 5/5\n",
            "1857/1857 [==============================] - 16s 9ms/step - loss: 0.5012 - accuracy: 0.8654 - val_loss: 0.3638 - val_accuracy: 0.9200\n"
          ]
        },
        {
          "output_type": "execute_result",
          "data": {
            "text/plain": [
              "<keras.callbacks.History at 0x7f4a06aadbd0>"
            ]
          },
          "metadata": {},
          "execution_count": 15
        }
      ]
    },
    {
      "cell_type": "code",
      "source": [
        "predictions = model.predict(X_test_normalized)"
      ],
      "metadata": {
        "id": "jpsAilWupCsA"
      },
      "execution_count": 16,
      "outputs": []
    },
    {
      "cell_type": "code",
      "source": [
        "random = randint(0,X_test.shape[0])\n",
        "\n",
        "pyplot.imshow(X_test[random], cmap=\"gray_r\")\n",
        "pyplot.show()\n",
        "\n",
        "print(predictions[random])\n",
        "print(predictions[random].argmax(axis=0))\n",
        "\n",
        "print(y_test_matrix[random])\n",
        "print(y_test[random])"
      ],
      "metadata": {
        "colab": {
          "base_uri": "https://localhost:8080/",
          "height": 350
        },
        "id": "kRhM5tF_xYya",
        "outputId": "04b7c1e6-cd30-4ef1-8bf1-444a9c866bcf"
      },
      "execution_count": 18,
      "outputs": [
        {
          "output_type": "display_data",
          "data": {
            "text/plain": [
              "<Figure size 432x288 with 1 Axes>"
            ],
            "image/png": "[encoded data removed]"
          },
          "metadata": {
            "needs_background": "light"
          }
        },
        {
          "output_type": "stream",
          "name": "stdout",
          "text": [
            "[4.1631560e-04 3.4307766e-05 2.4057853e-04 7.8742718e-03 9.7625260e-04\n",
            " 1.9993060e-03 4.9015944e-06 8.8978678e-01 3.1070059e-04 9.8356612e-02]\n",
            "7\n",
            "[0. 0. 0. 0. 0. 0. 0. 1. 0. 0.]\n",
            "7\n"
          ]
        }
      ]
    }
  ]
}